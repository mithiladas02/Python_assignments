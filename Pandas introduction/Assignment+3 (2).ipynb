{
 "cells": [
  {
   "cell_type": "markdown",
   "metadata": {},
   "source": [
    "---\n",
    "\n",
    "_You are currently looking at **version 1.5** of this notebook. To download notebooks and datafiles, as well as get help on Jupyter notebooks in the Coursera platform, visit the [Jupyter Notebook FAQ](https://www.coursera.org/learn/python-data-analysis/resources/0dhYG) course resource._\n",
    "\n",
    "---"
   ]
  },
  {
   "cell_type": "markdown",
   "metadata": {},
   "source": [
    "# Assignment 3 - More Pandas\n",
    "This assignment requires more individual learning then the last one did - you are encouraged to check out the [pandas documentation](http://pandas.pydata.org/pandas-docs/stable/) to find functions or methods you might not have used yet, or ask questions on [Stack Overflow](http://stackoverflow.com/) and tag them as pandas and python related. And of course, the discussion forums are open for interaction with your peers and the course staff."
   ]
  },
  {
   "cell_type": "markdown",
   "metadata": {},
   "source": [
    "### Question 1 (20%)\n",
    "Load the energy data from the file `Energy Indicators.xls`, which is a list of indicators of [energy supply and renewable electricity production](Energy%20Indicators.xls) from the [United Nations](http://unstats.un.org/unsd/environment/excel_file_tables/2013/Energy%20Indicators.xls) for the year 2013, and should be put into a DataFrame with the variable name of **energy**.\n",
    "\n",
    "Keep in mind that this is an Excel file, and not a comma separated values file. Also, make sure to exclude the footer and header information from the datafile. The first two columns are unneccessary, so you should get rid of them, and you should change the column labels so that the columns are:\n",
    "\n",
    "`['Country', 'Energy Supply', 'Energy Supply per Capita', '% Renewable']`\n",
    "\n",
    "Convert `Energy Supply` to gigajoules (there are 1,000,000 gigajoules in a petajoule). For all countries which have missing data (e.g. data with \"...\") make sure this is reflected as `np.NaN` values.\n",
    "\n",
    "Rename the following list of countries (for use in later questions):\n",
    "\n",
    "```\"Republic of Korea\": \"South Korea\",\n",
    "\"United States of America\": \"United States\",\n",
    "\"United Kingdom of Great Britain and Northern Ireland\": \"United Kingdom\",\n",
    "\"China, Hong Kong Special Administrative Region\": \"Hong Kong\"```\n",
    "\n",
    "There are also several countries with numbers and/or parenthesis in their name. Be sure to remove these, \n",
    "\n",
    "e.g. \n",
    "\n",
    "`'Bolivia (Plurinational State of)'` should be `'Bolivia'`, \n",
    "\n",
    "`'Switzerland17'` should be `'Switzerland'`.\n",
    "\n",
    "<br>\n",
    "\n",
    "Next, load the GDP data from the file `world_bank.csv`, which is a csv containing countries' GDP from 1960 to 2015 from [World Bank](http://data.worldbank.org/indicator/NY.GDP.MKTP.CD). Call this DataFrame **GDP**. \n",
    "\n",
    "Make sure to skip the header, and rename the following list of countries:\n",
    "\n",
    "```\"Korea, Rep.\": \"South Korea\", \n",
    "\"Iran, Islamic Rep.\": \"Iran\",\n",
    "\"Hong Kong SAR, China\": \"Hong Kong\"```\n",
    "\n",
    "<br>\n",
    "\n",
    "Finally, load the [Sciamgo Journal and Country Rank data for Energy Engineering and Power Technology](http://www.scimagojr.com/countryrank.php?category=2102) from the file `scimagojr-3.xlsx`, which ranks countries based on their journal contributions in the aforementioned area. Call this DataFrame **ScimEn**.\n",
    "\n",
    "Join the three datasets: GDP, Energy, and ScimEn into a new dataset (using the intersection of country names). Use only the last 10 years (2006-2015) of GDP data and only the top 15 countries by Scimagojr 'Rank' (Rank 1 through 15). \n",
    "\n",
    "The index of this DataFrame should be the name of the country, and the columns should be ['Rank', 'Documents', 'Citable documents', 'Citations', 'Self-citations',\n",
    "       'Citations per document', 'H index', 'Energy Supply',\n",
    "       'Energy Supply per Capita', '% Renewable', '2006', '2007', '2008',\n",
    "       '2009', '2010', '2011', '2012', '2013', '2014', '2015'].\n",
    "\n",
    "*This function should return a DataFrame with 20 columns and 15 entries.*"
   ]
  },
  {
   "cell_type": "code",
   "execution_count": 18,
   "metadata": {
    "umich_part_id": "009",
    "umich_partlist_id": "003"
   },
   "outputs": [
    {
     "data": {
      "text/html": [
       "<div>\n",
       "<style scoped>\n",
       "    .dataframe tbody tr th:only-of-type {\n",
       "        vertical-align: middle;\n",
       "    }\n",
       "\n",
       "    .dataframe tbody tr th {\n",
       "        vertical-align: top;\n",
       "    }\n",
       "\n",
       "    .dataframe thead th {\n",
       "        text-align: right;\n",
       "    }\n",
       "</style>\n",
       "<table border=\"1\" class=\"dataframe\">\n",
       "  <thead>\n",
       "    <tr style=\"text-align: right;\">\n",
       "      <th></th>\n",
       "      <th>Rank</th>\n",
       "      <th>Documents</th>\n",
       "      <th>Citable documents</th>\n",
       "      <th>Citations</th>\n",
       "      <th>Self-citations</th>\n",
       "      <th>Citations per document</th>\n",
       "      <th>H index</th>\n",
       "      <th>Energy Supply</th>\n",
       "      <th>Energy Supply per Capita</th>\n",
       "      <th>% Renewable</th>\n",
       "      <th>2006</th>\n",
       "      <th>2007</th>\n",
       "      <th>2008</th>\n",
       "      <th>2009</th>\n",
       "      <th>2010</th>\n",
       "      <th>2011</th>\n",
       "      <th>2012</th>\n",
       "      <th>2013</th>\n",
       "      <th>2014</th>\n",
       "      <th>2015</th>\n",
       "    </tr>\n",
       "    <tr>\n",
       "      <th>Country</th>\n",
       "      <th></th>\n",
       "      <th></th>\n",
       "      <th></th>\n",
       "      <th></th>\n",
       "      <th></th>\n",
       "      <th></th>\n",
       "      <th></th>\n",
       "      <th></th>\n",
       "      <th></th>\n",
       "      <th></th>\n",
       "      <th></th>\n",
       "      <th></th>\n",
       "      <th></th>\n",
       "      <th></th>\n",
       "      <th></th>\n",
       "      <th></th>\n",
       "      <th></th>\n",
       "      <th></th>\n",
       "      <th></th>\n",
       "      <th></th>\n",
       "    </tr>\n",
       "  </thead>\n",
       "  <tbody>\n",
       "    <tr>\n",
       "      <td>China</td>\n",
       "      <td>1</td>\n",
       "      <td>193483</td>\n",
       "      <td>192270</td>\n",
       "      <td>1355524</td>\n",
       "      <td>927458</td>\n",
       "      <td>7.01</td>\n",
       "      <td>196</td>\n",
       "      <td>127191.0</td>\n",
       "      <td>93.0</td>\n",
       "      <td>19.754910</td>\n",
       "      <td>2.752132e+12</td>\n",
       "      <td>3.550342e+12</td>\n",
       "      <td>4.594307e+12</td>\n",
       "      <td>5.101702e+12</td>\n",
       "      <td>6.087165e+12</td>\n",
       "      <td>7.551500e+12</td>\n",
       "      <td>8.532231e+12</td>\n",
       "      <td>9.570406e+12</td>\n",
       "      <td>1.043853e+13</td>\n",
       "      <td>1.101554e+13</td>\n",
       "    </tr>\n",
       "    <tr>\n",
       "      <td>United States</td>\n",
       "      <td>2</td>\n",
       "      <td>143130</td>\n",
       "      <td>139924</td>\n",
       "      <td>1551044</td>\n",
       "      <td>530169</td>\n",
       "      <td>10.84</td>\n",
       "      <td>301</td>\n",
       "      <td>90838.0</td>\n",
       "      <td>286.0</td>\n",
       "      <td>11.570980</td>\n",
       "      <td>1.381461e+13</td>\n",
       "      <td>1.445186e+13</td>\n",
       "      <td>1.471284e+13</td>\n",
       "      <td>1.444893e+13</td>\n",
       "      <td>1.499205e+13</td>\n",
       "      <td>1.554258e+13</td>\n",
       "      <td>1.619701e+13</td>\n",
       "      <td>1.678485e+13</td>\n",
       "      <td>1.752175e+13</td>\n",
       "      <td>1.821930e+13</td>\n",
       "    </tr>\n",
       "    <tr>\n",
       "      <td>Japan</td>\n",
       "      <td>3</td>\n",
       "      <td>41188</td>\n",
       "      <td>40775</td>\n",
       "      <td>357829</td>\n",
       "      <td>93375</td>\n",
       "      <td>8.69</td>\n",
       "      <td>166</td>\n",
       "      <td>18984.0</td>\n",
       "      <td>149.0</td>\n",
       "      <td>10.232820</td>\n",
       "      <td>4.530377e+12</td>\n",
       "      <td>4.515265e+12</td>\n",
       "      <td>5.037908e+12</td>\n",
       "      <td>5.231383e+12</td>\n",
       "      <td>5.700098e+12</td>\n",
       "      <td>6.157460e+12</td>\n",
       "      <td>6.203213e+12</td>\n",
       "      <td>5.155717e+12</td>\n",
       "      <td>4.850414e+12</td>\n",
       "      <td>4.389476e+12</td>\n",
       "    </tr>\n",
       "    <tr>\n",
       "      <td>United Kingdom</td>\n",
       "      <td>4</td>\n",
       "      <td>33293</td>\n",
       "      <td>32300</td>\n",
       "      <td>405816</td>\n",
       "      <td>77019</td>\n",
       "      <td>12.19</td>\n",
       "      <td>185</td>\n",
       "      <td>7920.0</td>\n",
       "      <td>124.0</td>\n",
       "      <td>10.600470</td>\n",
       "      <td>2.713750e+12</td>\n",
       "      <td>3.100882e+12</td>\n",
       "      <td>2.922667e+12</td>\n",
       "      <td>2.410910e+12</td>\n",
       "      <td>2.475244e+12</td>\n",
       "      <td>2.659310e+12</td>\n",
       "      <td>2.704888e+12</td>\n",
       "      <td>2.786023e+12</td>\n",
       "      <td>3.063803e+12</td>\n",
       "      <td>2.928591e+12</td>\n",
       "    </tr>\n",
       "    <tr>\n",
       "      <td>India</td>\n",
       "      <td>5</td>\n",
       "      <td>32064</td>\n",
       "      <td>31167</td>\n",
       "      <td>268746</td>\n",
       "      <td>87658</td>\n",
       "      <td>8.38</td>\n",
       "      <td>153</td>\n",
       "      <td>33195.0</td>\n",
       "      <td>26.0</td>\n",
       "      <td>14.969080</td>\n",
       "      <td>9.402599e+11</td>\n",
       "      <td>1.216735e+12</td>\n",
       "      <td>1.198896e+12</td>\n",
       "      <td>1.341887e+12</td>\n",
       "      <td>1.675615e+12</td>\n",
       "      <td>1.823050e+12</td>\n",
       "      <td>1.827638e+12</td>\n",
       "      <td>1.856722e+12</td>\n",
       "      <td>2.039127e+12</td>\n",
       "      <td>2.103588e+12</td>\n",
       "    </tr>\n",
       "    <tr>\n",
       "      <td>Germany</td>\n",
       "      <td>6</td>\n",
       "      <td>27966</td>\n",
       "      <td>27370</td>\n",
       "      <td>278237</td>\n",
       "      <td>59495</td>\n",
       "      <td>9.95</td>\n",
       "      <td>166</td>\n",
       "      <td>13261.0</td>\n",
       "      <td>165.0</td>\n",
       "      <td>17.901530</td>\n",
       "      <td>2.992197e+12</td>\n",
       "      <td>3.421229e+12</td>\n",
       "      <td>3.730028e+12</td>\n",
       "      <td>3.397791e+12</td>\n",
       "      <td>3.396354e+12</td>\n",
       "      <td>3.744409e+12</td>\n",
       "      <td>3.527345e+12</td>\n",
       "      <td>3.732743e+12</td>\n",
       "      <td>3.883920e+12</td>\n",
       "      <td>3.360550e+12</td>\n",
       "    </tr>\n",
       "    <tr>\n",
       "      <td>Russian Federation</td>\n",
       "      <td>7</td>\n",
       "      <td>26435</td>\n",
       "      <td>26196</td>\n",
       "      <td>68424</td>\n",
       "      <td>29544</td>\n",
       "      <td>2.59</td>\n",
       "      <td>75</td>\n",
       "      <td>30709.0</td>\n",
       "      <td>214.0</td>\n",
       "      <td>17.288680</td>\n",
       "      <td>9.899305e+11</td>\n",
       "      <td>1.299706e+12</td>\n",
       "      <td>1.660846e+12</td>\n",
       "      <td>1.222644e+12</td>\n",
       "      <td>1.524917e+12</td>\n",
       "      <td>2.051662e+12</td>\n",
       "      <td>2.210257e+12</td>\n",
       "      <td>2.297128e+12</td>\n",
       "      <td>2.059984e+12</td>\n",
       "      <td>1.363594e+12</td>\n",
       "    </tr>\n",
       "    <tr>\n",
       "      <td>Canada</td>\n",
       "      <td>8</td>\n",
       "      <td>26148</td>\n",
       "      <td>25571</td>\n",
       "      <td>395467</td>\n",
       "      <td>74112</td>\n",
       "      <td>15.12</td>\n",
       "      <td>193</td>\n",
       "      <td>10431.0</td>\n",
       "      <td>296.0</td>\n",
       "      <td>61.945430</td>\n",
       "      <td>1.315415e+12</td>\n",
       "      <td>1.464977e+12</td>\n",
       "      <td>1.549131e+12</td>\n",
       "      <td>1.371153e+12</td>\n",
       "      <td>1.613543e+12</td>\n",
       "      <td>1.789141e+12</td>\n",
       "      <td>1.823967e+12</td>\n",
       "      <td>1.842018e+12</td>\n",
       "      <td>1.801480e+12</td>\n",
       "      <td>1.552900e+12</td>\n",
       "    </tr>\n",
       "    <tr>\n",
       "      <td>France</td>\n",
       "      <td>9</td>\n",
       "      <td>19696</td>\n",
       "      <td>19214</td>\n",
       "      <td>238639</td>\n",
       "      <td>48462</td>\n",
       "      <td>12.12</td>\n",
       "      <td>152</td>\n",
       "      <td>10597.0</td>\n",
       "      <td>166.0</td>\n",
       "      <td>17.020280</td>\n",
       "      <td>2.318594e+12</td>\n",
       "      <td>2.657213e+12</td>\n",
       "      <td>2.918383e+12</td>\n",
       "      <td>2.690222e+12</td>\n",
       "      <td>2.642610e+12</td>\n",
       "      <td>2.861408e+12</td>\n",
       "      <td>2.683825e+12</td>\n",
       "      <td>2.811078e+12</td>\n",
       "      <td>2.852166e+12</td>\n",
       "      <td>2.438208e+12</td>\n",
       "    </tr>\n",
       "    <tr>\n",
       "      <td>Italy</td>\n",
       "      <td>10</td>\n",
       "      <td>18773</td>\n",
       "      <td>17987</td>\n",
       "      <td>221652</td>\n",
       "      <td>54282</td>\n",
       "      <td>11.81</td>\n",
       "      <td>135</td>\n",
       "      <td>6530.0</td>\n",
       "      <td>109.0</td>\n",
       "      <td>33.667230</td>\n",
       "      <td>1.947920e+12</td>\n",
       "      <td>2.210293e+12</td>\n",
       "      <td>2.398857e+12</td>\n",
       "      <td>2.191242e+12</td>\n",
       "      <td>2.134018e+12</td>\n",
       "      <td>2.291991e+12</td>\n",
       "      <td>2.087077e+12</td>\n",
       "      <td>2.141315e+12</td>\n",
       "      <td>2.159134e+12</td>\n",
       "      <td>1.835899e+12</td>\n",
       "    </tr>\n",
       "    <tr>\n",
       "      <td>South Korea</td>\n",
       "      <td>11</td>\n",
       "      <td>18217</td>\n",
       "      <td>17994</td>\n",
       "      <td>208150</td>\n",
       "      <td>39811</td>\n",
       "      <td>11.43</td>\n",
       "      <td>132</td>\n",
       "      <td>11007.0</td>\n",
       "      <td>221.0</td>\n",
       "      <td>2.279353</td>\n",
       "      <td>1.011797e+12</td>\n",
       "      <td>1.122679e+12</td>\n",
       "      <td>1.002219e+12</td>\n",
       "      <td>9.019350e+11</td>\n",
       "      <td>1.094499e+12</td>\n",
       "      <td>1.202464e+12</td>\n",
       "      <td>1.222807e+12</td>\n",
       "      <td>1.305605e+12</td>\n",
       "      <td>1.411334e+12</td>\n",
       "      <td>1.382764e+12</td>\n",
       "    </tr>\n",
       "    <tr>\n",
       "      <td>Iran</td>\n",
       "      <td>12</td>\n",
       "      <td>15614</td>\n",
       "      <td>15334</td>\n",
       "      <td>160505</td>\n",
       "      <td>51493</td>\n",
       "      <td>10.28</td>\n",
       "      <td>108</td>\n",
       "      <td>9172.0</td>\n",
       "      <td>119.0</td>\n",
       "      <td>5.707721</td>\n",
       "      <td>2.662989e+11</td>\n",
       "      <td>3.498816e+11</td>\n",
       "      <td>4.060709e+11</td>\n",
       "      <td>4.140591e+11</td>\n",
       "      <td>4.870696e+11</td>\n",
       "      <td>5.835004e+11</td>\n",
       "      <td>5.988534e+11</td>\n",
       "      <td>4.674149e+11</td>\n",
       "      <td>4.344746e+11</td>\n",
       "      <td>3.858745e+11</td>\n",
       "    </tr>\n",
       "    <tr>\n",
       "      <td>Brazil</td>\n",
       "      <td>13</td>\n",
       "      <td>15332</td>\n",
       "      <td>15132</td>\n",
       "      <td>118483</td>\n",
       "      <td>28818</td>\n",
       "      <td>7.73</td>\n",
       "      <td>109</td>\n",
       "      <td>12149.0</td>\n",
       "      <td>59.0</td>\n",
       "      <td>69.648030</td>\n",
       "      <td>1.107640e+12</td>\n",
       "      <td>1.397084e+12</td>\n",
       "      <td>1.695825e+12</td>\n",
       "      <td>1.667020e+12</td>\n",
       "      <td>2.208872e+12</td>\n",
       "      <td>2.616201e+12</td>\n",
       "      <td>2.465189e+12</td>\n",
       "      <td>2.472806e+12</td>\n",
       "      <td>2.455994e+12</td>\n",
       "      <td>1.802214e+12</td>\n",
       "    </tr>\n",
       "    <tr>\n",
       "      <td>Australia</td>\n",
       "      <td>14</td>\n",
       "      <td>14907</td>\n",
       "      <td>14564</td>\n",
       "      <td>196567</td>\n",
       "      <td>34134</td>\n",
       "      <td>13.19</td>\n",
       "      <td>143</td>\n",
       "      <td>5386.0</td>\n",
       "      <td>231.0</td>\n",
       "      <td>11.810810</td>\n",
       "      <td>7.460542e+11</td>\n",
       "      <td>8.530996e+11</td>\n",
       "      <td>1.053996e+12</td>\n",
       "      <td>9.278052e+11</td>\n",
       "      <td>1.146138e+12</td>\n",
       "      <td>1.396650e+12</td>\n",
       "      <td>1.546152e+12</td>\n",
       "      <td>1.576184e+12</td>\n",
       "      <td>1.467484e+12</td>\n",
       "      <td>1.351694e+12</td>\n",
       "    </tr>\n",
       "    <tr>\n",
       "      <td>Spain</td>\n",
       "      <td>15</td>\n",
       "      <td>14204</td>\n",
       "      <td>13916</td>\n",
       "      <td>233955</td>\n",
       "      <td>42632</td>\n",
       "      <td>16.47</td>\n",
       "      <td>149</td>\n",
       "      <td>4923.0</td>\n",
       "      <td>106.0</td>\n",
       "      <td>37.968590</td>\n",
       "      <td>1.259344e+12</td>\n",
       "      <td>1.472131e+12</td>\n",
       "      <td>1.625225e+12</td>\n",
       "      <td>1.485583e+12</td>\n",
       "      <td>1.420722e+12</td>\n",
       "      <td>1.478773e+12</td>\n",
       "      <td>1.324820e+12</td>\n",
       "      <td>1.354757e+12</td>\n",
       "      <td>1.369399e+12</td>\n",
       "      <td>1.195119e+12</td>\n",
       "    </tr>\n",
       "  </tbody>\n",
       "</table>\n",
       "</div>"
      ],
      "text/plain": [
       "                    Rank  Documents  Citable documents  Citations  \\\n",
       "Country                                                             \n",
       "China                  1     193483             192270    1355524   \n",
       "United States          2     143130             139924    1551044   \n",
       "Japan                  3      41188              40775     357829   \n",
       "United Kingdom         4      33293              32300     405816   \n",
       "India                  5      32064              31167     268746   \n",
       "Germany                6      27966              27370     278237   \n",
       "Russian Federation     7      26435              26196      68424   \n",
       "Canada                 8      26148              25571     395467   \n",
       "France                 9      19696              19214     238639   \n",
       "Italy                 10      18773              17987     221652   \n",
       "South Korea           11      18217              17994     208150   \n",
       "Iran                  12      15614              15334     160505   \n",
       "Brazil                13      15332              15132     118483   \n",
       "Australia             14      14907              14564     196567   \n",
       "Spain                 15      14204              13916     233955   \n",
       "\n",
       "                    Self-citations  Citations per document  H index  \\\n",
       "Country                                                               \n",
       "China                       927458                    7.01      196   \n",
       "United States               530169                   10.84      301   \n",
       "Japan                        93375                    8.69      166   \n",
       "United Kingdom               77019                   12.19      185   \n",
       "India                        87658                    8.38      153   \n",
       "Germany                      59495                    9.95      166   \n",
       "Russian Federation           29544                    2.59       75   \n",
       "Canada                       74112                   15.12      193   \n",
       "France                       48462                   12.12      152   \n",
       "Italy                        54282                   11.81      135   \n",
       "South Korea                  39811                   11.43      132   \n",
       "Iran                         51493                   10.28      108   \n",
       "Brazil                       28818                    7.73      109   \n",
       "Australia                    34134                   13.19      143   \n",
       "Spain                        42632                   16.47      149   \n",
       "\n",
       "                    Energy Supply  Energy Supply per Capita  % Renewable  \\\n",
       "Country                                                                    \n",
       "China                    127191.0                      93.0    19.754910   \n",
       "United States             90838.0                     286.0    11.570980   \n",
       "Japan                     18984.0                     149.0    10.232820   \n",
       "United Kingdom             7920.0                     124.0    10.600470   \n",
       "India                     33195.0                      26.0    14.969080   \n",
       "Germany                   13261.0                     165.0    17.901530   \n",
       "Russian Federation        30709.0                     214.0    17.288680   \n",
       "Canada                    10431.0                     296.0    61.945430   \n",
       "France                    10597.0                     166.0    17.020280   \n",
       "Italy                      6530.0                     109.0    33.667230   \n",
       "South Korea               11007.0                     221.0     2.279353   \n",
       "Iran                       9172.0                     119.0     5.707721   \n",
       "Brazil                    12149.0                      59.0    69.648030   \n",
       "Australia                  5386.0                     231.0    11.810810   \n",
       "Spain                      4923.0                     106.0    37.968590   \n",
       "\n",
       "                            2006          2007          2008          2009  \\\n",
       "Country                                                                      \n",
       "China               2.752132e+12  3.550342e+12  4.594307e+12  5.101702e+12   \n",
       "United States       1.381461e+13  1.445186e+13  1.471284e+13  1.444893e+13   \n",
       "Japan               4.530377e+12  4.515265e+12  5.037908e+12  5.231383e+12   \n",
       "United Kingdom      2.713750e+12  3.100882e+12  2.922667e+12  2.410910e+12   \n",
       "India               9.402599e+11  1.216735e+12  1.198896e+12  1.341887e+12   \n",
       "Germany             2.992197e+12  3.421229e+12  3.730028e+12  3.397791e+12   \n",
       "Russian Federation  9.899305e+11  1.299706e+12  1.660846e+12  1.222644e+12   \n",
       "Canada              1.315415e+12  1.464977e+12  1.549131e+12  1.371153e+12   \n",
       "France              2.318594e+12  2.657213e+12  2.918383e+12  2.690222e+12   \n",
       "Italy               1.947920e+12  2.210293e+12  2.398857e+12  2.191242e+12   \n",
       "South Korea         1.011797e+12  1.122679e+12  1.002219e+12  9.019350e+11   \n",
       "Iran                2.662989e+11  3.498816e+11  4.060709e+11  4.140591e+11   \n",
       "Brazil              1.107640e+12  1.397084e+12  1.695825e+12  1.667020e+12   \n",
       "Australia           7.460542e+11  8.530996e+11  1.053996e+12  9.278052e+11   \n",
       "Spain               1.259344e+12  1.472131e+12  1.625225e+12  1.485583e+12   \n",
       "\n",
       "                            2010          2011          2012          2013  \\\n",
       "Country                                                                      \n",
       "China               6.087165e+12  7.551500e+12  8.532231e+12  9.570406e+12   \n",
       "United States       1.499205e+13  1.554258e+13  1.619701e+13  1.678485e+13   \n",
       "Japan               5.700098e+12  6.157460e+12  6.203213e+12  5.155717e+12   \n",
       "United Kingdom      2.475244e+12  2.659310e+12  2.704888e+12  2.786023e+12   \n",
       "India               1.675615e+12  1.823050e+12  1.827638e+12  1.856722e+12   \n",
       "Germany             3.396354e+12  3.744409e+12  3.527345e+12  3.732743e+12   \n",
       "Russian Federation  1.524917e+12  2.051662e+12  2.210257e+12  2.297128e+12   \n",
       "Canada              1.613543e+12  1.789141e+12  1.823967e+12  1.842018e+12   \n",
       "France              2.642610e+12  2.861408e+12  2.683825e+12  2.811078e+12   \n",
       "Italy               2.134018e+12  2.291991e+12  2.087077e+12  2.141315e+12   \n",
       "South Korea         1.094499e+12  1.202464e+12  1.222807e+12  1.305605e+12   \n",
       "Iran                4.870696e+11  5.835004e+11  5.988534e+11  4.674149e+11   \n",
       "Brazil              2.208872e+12  2.616201e+12  2.465189e+12  2.472806e+12   \n",
       "Australia           1.146138e+12  1.396650e+12  1.546152e+12  1.576184e+12   \n",
       "Spain               1.420722e+12  1.478773e+12  1.324820e+12  1.354757e+12   \n",
       "\n",
       "                            2014          2015  \n",
       "Country                                         \n",
       "China               1.043853e+13  1.101554e+13  \n",
       "United States       1.752175e+13  1.821930e+13  \n",
       "Japan               4.850414e+12  4.389476e+12  \n",
       "United Kingdom      3.063803e+12  2.928591e+12  \n",
       "India               2.039127e+12  2.103588e+12  \n",
       "Germany             3.883920e+12  3.360550e+12  \n",
       "Russian Federation  2.059984e+12  1.363594e+12  \n",
       "Canada              1.801480e+12  1.552900e+12  \n",
       "France              2.852166e+12  2.438208e+12  \n",
       "Italy               2.159134e+12  1.835899e+12  \n",
       "South Korea         1.411334e+12  1.382764e+12  \n",
       "Iran                4.344746e+11  3.858745e+11  \n",
       "Brazil              2.455994e+12  1.802214e+12  \n",
       "Australia           1.467484e+12  1.351694e+12  \n",
       "Spain               1.369399e+12  1.195119e+12  "
      ]
     },
     "execution_count": 18,
     "metadata": {},
     "output_type": "execute_result"
    }
   ],
   "source": [
    "def answer_one():\n",
    "    import pandas as pd\n",
    "    import numpy as np\n",
    "\n",
    "    energy=pd.read_excel('Energy Indicators.xls')\n",
    "    energy=energy[17:244]\n",
    "    energy=energy.drop(energy.columns[[0,1]], axis=1 )\n",
    "    energy.rename(columns={'Unnamed: 2': 'Country','Unnamed: 3':'Energy Supply','Unnamed: 4':'Energy Supply per Capita','Unnamed: 5':'% Renewable'}, inplace=True)\n",
    "    energy.replace('...', np.NaN,inplace = True)#to remove missing number\n",
    "    energy['Energy Supply'] * 1000000\n",
    "    \n",
    "    energy['Country'] = energy['Country'].str.replace(r\" \\(.*\\)\",\"\")#to remove parenthesis\n",
    "    energy['Country'] = energy['Country'].str.replace('\\d+', '')#to remove decimal number\n",
    "    \n",
    "    energy['Country'] = energy['Country'].replace({'China, Hong Kong Special Administrative Region':'Hong Kong',\n",
    "                                                   'United Kingdom of Great Britain and Northern Ireland':'United Kingdom',\n",
    "                                                   'Republic of Korea':'South Korea','United States of America':'United States','Iran (Islamic Republic of)':'Iran','China2':'China'\n",
    "                                              })\n",
    "    \n",
    "    \n",
    "     # This brings the Iran energy values back! Iran is listed as \"Iran (Islamic Republic of)\" in the energy data! So removing\n",
    "    # the parentheses still leaves a space after Iran (\"Iran \") which is why Iran's energy values don't appear properly.\n",
    "    energy['Country'] = energy['Country'].str.strip()\n",
    "    \n",
    "     \n",
    "    GDP = pd.read_csv('world_bank.csv',error_bad_lines=False,skiprows=4)\n",
    "    GDP['Country Name']=GDP['Country Name'].replace({\"Korea, Rep.\": \"South Korea\", \n",
    "                \"Iran, Islamic Rep.\": \"Iran\",\n",
    "                \"Hong Kong SAR, China\": \"Hong Kong\"})\n",
    "    GDP = GDP[['Country Name','2006','2007','2008','2009','2010','2011','2012','2013','2014','2015']]\n",
    "    GDP.columns = ['Country','2006','2007','2008','2009','2010','2011','2012','2013','2014','2015']\n",
    "    \n",
    "    GDP.to_csv('out.csv')\n",
    "    \n",
    "    ScimEn = pd.read_excel('scimagojr-3.xlsx')\n",
    "    ScimEn = ScimEn[:15]\n",
    "    df = pd.merge(ScimEn,energy,how='inner',left_on='Country',right_on='Country')\n",
    "    final_df = pd.merge(df,GDP,how='inner',left_on='Country',right_on='Country')\n",
    "    final_df.sort_values(by='Rank', ascending=False)\n",
    "    final_df = final_df.set_index('Country')#making country index column\n",
    "    final_df.columns=['Rank', 'Documents', 'Citable documents', 'Citations', 'Self-citations',\n",
    "                               'Citations per document', 'H index', 'Energy Supply',\n",
    "                               'Energy Supply per Capita', '% Renewable', '2006',\n",
    "                               '2007', '2008', '2009', '2010', '2011', '2012', '2013', '2014', '2015']\n",
    "    \n",
    "    return final_df.head(15)\n",
    "    \n",
    "    \n",
    "answer_one()\n"
   ]
  },
  {
   "cell_type": "markdown",
   "metadata": {},
   "source": [
    "### Question 2 (6.6%)\n",
    "The previous question joined three datasets then reduced this to just the top 15 entries. When you joined the datasets, but before you reduced this to the top 15 items, how many entries did you lose?\n",
    "\n",
    "*This function should return a single number.*"
   ]
  },
  {
   "cell_type": "code",
   "execution_count": 44,
   "metadata": {},
   "outputs": [
    {
     "data": {
      "text/html": [
       "<svg width=\"800\" height=\"300\">\n",
       "  <circle cx=\"150\" cy=\"180\" r=\"80\" fill-opacity=\"0.2\" stroke=\"black\" stroke-width=\"2\" fill=\"blue\" />\n",
       "  <circle cx=\"200\" cy=\"100\" r=\"80\" fill-opacity=\"0.2\" stroke=\"black\" stroke-width=\"2\" fill=\"red\" />\n",
       "  <circle cx=\"100\" cy=\"100\" r=\"80\" fill-opacity=\"0.2\" stroke=\"black\" stroke-width=\"2\" fill=\"green\" />\n",
       "  <line x1=\"150\" y1=\"125\" x2=\"300\" y2=\"150\" stroke=\"black\" stroke-width=\"2\" fill=\"black\" stroke-dasharray=\"5,3\"/>\n",
       "  <text  x=\"300\" y=\"165\" font-family=\"Verdana\" font-size=\"35\">Everything but this!</text>\n",
       "</svg>\n"
      ],
      "text/plain": [
       "<IPython.core.display.HTML object>"
      ]
     },
     "metadata": {},
     "output_type": "display_data"
    }
   ],
   "source": [
    "%%HTML\n",
    "<svg width=\"800\" height=\"300\">\n",
    "  <circle cx=\"150\" cy=\"180\" r=\"80\" fill-opacity=\"0.2\" stroke=\"black\" stroke-width=\"2\" fill=\"blue\" />\n",
    "  <circle cx=\"200\" cy=\"100\" r=\"80\" fill-opacity=\"0.2\" stroke=\"black\" stroke-width=\"2\" fill=\"red\" />\n",
    "  <circle cx=\"100\" cy=\"100\" r=\"80\" fill-opacity=\"0.2\" stroke=\"black\" stroke-width=\"2\" fill=\"green\" />\n",
    "  <line x1=\"150\" y1=\"125\" x2=\"300\" y2=\"150\" stroke=\"black\" stroke-width=\"2\" fill=\"black\" stroke-dasharray=\"5,3\"/>\n",
    "  <text  x=\"300\" y=\"165\" font-family=\"Verdana\" font-size=\"35\">Everything but this!</text>\n",
    "</svg>"
   ]
  },
  {
   "cell_type": "code",
   "execution_count": 19,
   "metadata": {
    "umich_part_id": "010",
    "umich_partlist_id": "003"
   },
   "outputs": [
    {
     "data": {
      "text/plain": [
       "0"
      ]
     },
     "execution_count": 19,
     "metadata": {},
     "output_type": "execute_result"
    }
   ],
   "source": [
    "def answer_two():\n",
    "    import pandas as pd\n",
    "    import numpy as np\n",
    "\n",
    "    energy=pd.read_excel('Energy Indicators.xls')\n",
    "    energy=energy[17:244]\n",
    "    energy=energy.drop(energy.columns[[0,1]], axis=1 )\n",
    "    energy.rename(columns={'Unnamed: 2': 'Country','Unnamed: 3':'Energy Supply','Unnamed: 4':'Energy Supply per Capita','Unnamed: 5':'% Renewable'}, inplace=True)\n",
    "    energy.replace('...', np.NaN,inplace = True)\n",
    "    energy['Energy Supply'] * 1000000\n",
    "    \n",
    "    energy['Country'] = energy['Country'].str.replace(r\" \\(.*\\)\",\"\")\n",
    "    energy['Country'] = energy['Country'].str.replace('\\d+', '')\n",
    "    \n",
    "    energy['Country'] = energy['Country'].replace({'China, Hong Kong Special Administrative Region':'Hong Kong',\n",
    "                                                   'United Kingdom of Great Britain and Northern Ireland':'United Kingdom',\n",
    "                                                   'Republic of Korea':'South Korea','United States of America':'United States','Iran (Islamic Republic of)':'Iran','China2':'China'\n",
    "                                              })\n",
    "    \n",
    "    \n",
    "    \n",
    "    \n",
    "     \n",
    "    GDP = pd.read_csv('world_bank.csv',error_bad_lines=False,skiprows=4)\n",
    "    GDP['Country Name']=GDP['Country Name'].replace({\"Korea, Rep.\": \"South Korea\", \n",
    "                \"Iran, Islamic Rep.\": \"Iran\",\n",
    "                \"Hong Kong SAR, China\": \"Hong Kong\"})\n",
    "    GDP = GDP[['Country Name','2006','2007','2008','2009','2010','2011','2012','2013','2014','2015']]\n",
    "    GDP.columns = ['Country','2006','2007','2008','2009','2010','2011','2012','2013','2014','2015']\n",
    "    \n",
    "    GDP.to_csv('out.csv')\n",
    "    \n",
    "    ScimEn = pd.read_excel('scimagojr-3.xlsx')\n",
    "    ScimEn = ScimEn[:15]\n",
    "    df = pd.merge(ScimEn,energy,how='inner',left_on='Country',right_on='Country')\n",
    "    final_df = pd.merge(df,GDP,how='inner',left_on='Country',right_on='Country')\n",
    "    final_df.sort_values(by='Rank', ascending=False)\n",
    "    final_df = final_df.set_index('Country')#making country index column\n",
    "    \n",
    "    # Need unique entries in all 3 sets so use concat. Can't do that with a left or right outer join!\n",
    "    num_outer = len(pd.concat([ScimEn['Country'],energy['Country'],GDP['Country']]).unique())\n",
    "    \n",
    "    num_inter = (GDP.merge(energy, left_on='Country', right_on='Country', how='outer').merge(ScimEn, left_on='Country', right_on='Country', how='outer').shape[0])\n",
    "\n",
    "    return num_outer-num_inter\n",
    " \n",
    "    \n",
    "answer_two()"
   ]
  },
  {
   "cell_type": "markdown",
   "metadata": {},
   "source": [
    "## Answer the following questions in the context of only the top 15 countries by Scimagojr Rank (aka the DataFrame returned by `answer_one()`)"
   ]
  },
  {
   "cell_type": "markdown",
   "metadata": {},
   "source": [
    "### Question 3 (6.6%)\n",
    "What is the average GDP over the last 10 years for each country? (exclude missing values from this calculation.)\n",
    "\n",
    "*This function should return a Series named `avgGDP` with 15 countries and their average GDP sorted in descending order.*"
   ]
  },
  {
   "cell_type": "code",
   "execution_count": 20,
   "metadata": {
    "scrolled": true,
    "umich_part_id": "011",
    "umich_partlist_id": "003"
   },
   "outputs": [
    {
     "data": {
      "text/plain": [
       "Country\n",
       "United States         1.566858e+13\n",
       "China                 6.919386e+12\n",
       "Japan                 5.177131e+12\n",
       "Germany               3.518657e+12\n",
       "United Kingdom        2.776607e+12\n",
       "France                2.687371e+12\n",
       "Italy                 2.139775e+12\n",
       "Brazil                1.988885e+12\n",
       "Russian Federation    1.668067e+12\n",
       "Canada                1.612373e+12\n",
       "India                 1.602352e+12\n",
       "Spain                 1.398587e+12\n",
       "Australia             1.206526e+12\n",
       "South Korea           1.165810e+12\n",
       "Iran                  4.393498e+11\n",
       "Name: avgGDP, dtype: float64"
      ]
     },
     "execution_count": 20,
     "metadata": {},
     "output_type": "execute_result"
    }
   ],
   "source": [
    "def answer_three():\n",
    "    Top15 = answer_one()\n",
    "    Top15 = Top15[['2006','2007','2008','2009','2010','2011','2012','2013','2014','2015']]\n",
    "    avgGDP=Top15.mean(axis=1).rename('avgGDP').sort_values(ascending=False)\n",
    "    return avgGDP\n",
    "  \n",
    "\n",
    "answer_three()"
   ]
  },
  {
   "cell_type": "markdown",
   "metadata": {},
   "source": [
    "### Question 4 (6.6%)\n",
    "By how much had the GDP changed over the 10 year span for the country with the 6th largest average GDP?\n",
    "\n",
    "*This function should return a single number.*"
   ]
  },
  {
   "cell_type": "code",
   "execution_count": 21,
   "metadata": {
    "scrolled": true,
    "umich_part_id": "012",
    "umich_partlist_id": "003"
   },
   "outputs": [
    {
     "data": {
      "text/plain": [
       "119614244263.37988"
      ]
     },
     "execution_count": 21,
     "metadata": {},
     "output_type": "execute_result"
    }
   ],
   "source": [
    "def answer_four():\n",
    "    import pandas as pd\n",
    "    top10 = answer_three()\n",
    "    Top15 = answer_one()\n",
    "    \n",
    "    # Return the country (index) with the 6th largest average GDP. Need to use boolean masking to return the index value.\n",
    "    target_country = top10[top10 == top10[5]].index[0]\n",
    "    \n",
    "    # Change = GDP_2015 - GDP_2006\n",
    "    diff = Top15.loc[target_country].iloc[19] - Top15.loc[target_country].iloc[10]\n",
    "\n",
    "    return diff\n",
    "answer_four()"
   ]
  },
  {
   "cell_type": "markdown",
   "metadata": {},
   "source": [
    "### Question 5 (6.6%)\n",
    "What is the mean `Energy Supply per Capita`?\n",
    "\n",
    "*This function should return a single number.*"
   ]
  },
  {
   "cell_type": "code",
   "execution_count": 22,
   "metadata": {
    "umich_part_id": "013",
    "umich_partlist_id": "003"
   },
   "outputs": [
    {
     "data": {
      "text/plain": [
       "157.6"
      ]
     },
     "execution_count": 22,
     "metadata": {},
     "output_type": "execute_result"
    }
   ],
   "source": [
    "def answer_five():\n",
    "    Top15 = answer_one()\n",
    "    ans = Top15['Energy Supply per Capita'].mean()\n",
    "    return ans\n",
    "\n",
    "answer_five()"
   ]
  },
  {
   "cell_type": "markdown",
   "metadata": {},
   "source": [
    "### Question 6 (6.6%)\n",
    "What country has the maximum % Renewable and what is the percentage?\n",
    "\n",
    "*This function should return a tuple with the name of the country and the percentage.*"
   ]
  },
  {
   "cell_type": "code",
   "execution_count": 23,
   "metadata": {
    "umich_part_id": "014",
    "umich_partlist_id": "003"
   },
   "outputs": [
    {
     "data": {
      "text/plain": [
       "('Brazil', 69.64803)"
      ]
     },
     "execution_count": 23,
     "metadata": {},
     "output_type": "execute_result"
    }
   ],
   "source": [
    "def answer_six():\n",
    "    Top15 = answer_one()\n",
    "    target = Top15['% Renewable']\n",
    "    ans = target.max()\n",
    "    index = Top15[Top15['% Renewable'] == ans].index[0]\n",
    "    \n",
    "    return (index, ans)\n",
    "    \n",
    "answer_six() \n",
    "\n",
    "  "
   ]
  },
  {
   "cell_type": "markdown",
   "metadata": {},
   "source": [
    "### Question 7 (6.6%)\n",
    "Create a new column that is the ratio of Self-Citations to Total Citations. \n",
    "What is the maximum value for this new column, and what country has the highest ratio?\n",
    "\n",
    "*This function should return a tuple with the name of the country and the ratio.*"
   ]
  },
  {
   "cell_type": "code",
   "execution_count": 24,
   "metadata": {
    "umich_part_id": "015",
    "umich_partlist_id": "003"
   },
   "outputs": [
    {
     "data": {
      "text/plain": [
       "('China', 0.684206255293156)"
      ]
     },
     "execution_count": 24,
     "metadata": {},
     "output_type": "execute_result"
    }
   ],
   "source": [
    "def answer_seven():\n",
    "    Top15 = answer_one()\n",
    "    Top15['Ratio'] = Top15['Self-citations'] / Top15['Citations']\n",
    "    \n",
    "    max_value = Top15['Ratio'].max()\n",
    "    max_index = Top15[Top15['Ratio'] == max_value].index[0]\n",
    "    return (max_index,max_value)\n",
    "answer_seven()"
   ]
  },
  {
   "cell_type": "markdown",
   "metadata": {},
   "source": [
    "### Question 8 (6.6%)\n",
    "\n",
    "Create a column that estimates the population using Energy Supply and Energy Supply per capita. \n",
    "What is the third most populous country according to this estimate?\n",
    "\n",
    "*This function should return a single string value.*"
   ]
  },
  {
   "cell_type": "code",
   "execution_count": 25,
   "metadata": {
    "umich_part_id": "016",
    "umich_partlist_id": "003"
   },
   "outputs": [
    {
     "data": {
      "text/plain": [
       "'United States'"
      ]
     },
     "execution_count": 25,
     "metadata": {},
     "output_type": "execute_result"
    }
   ],
   "source": [
    "def answer_eight():\n",
    "    Top15 = answer_one()\n",
    "    Top15['Population'] = Top15['Energy Supply']/Top15['Energy Supply per Capita']\n",
    "    ans= Top15.sort_values(by='Population', ascending=False).iloc[2].name\n",
    "    return ans\n",
    "    \n",
    "answer_eight()"
   ]
  },
  {
   "cell_type": "markdown",
   "metadata": {},
   "source": [
    "### Question 9 (6.6%)\n",
    "Create a column that estimates the number of citable documents per person. \n",
    "What is the correlation between the number of citable documents per capita and the energy supply per capita? Use the `.corr()` method, (Pearson's correlation).\n",
    "\n",
    "*This function should return a single number.*\n",
    "\n",
    "*(Optional: Use the built-in function `plot9()` to visualize the relationship between Energy Supply per Capita vs. Citable docs per Capita)*"
   ]
  },
  {
   "cell_type": "code",
   "execution_count": 26,
   "metadata": {
    "umich_part_id": "017",
    "umich_partlist_id": "003"
   },
   "outputs": [
    {
     "data": {
      "text/plain": [
       "0.7676145948586386"
      ]
     },
     "execution_count": 26,
     "metadata": {},
     "output_type": "execute_result"
    }
   ],
   "source": [
    "def answer_nine():\n",
    "    Top15 = answer_one()\n",
    "    Top15['Population'] = Top15['Energy Supply']/Top15['Energy Supply per Capita']\n",
    "    Top15['Citable Documents per person']=Top15['Citable documents']/Top15['Population']\n",
    "    ans=Top15['Citable Documents per person'].corr(Top15['Energy Supply per Capita'])\n",
    "    \n",
    "    return ans\n",
    "answer_nine()\n"
   ]
  },
  {
   "cell_type": "code",
   "execution_count": 53,
   "metadata": {},
   "outputs": [],
   "source": [
    "# def plot9():\n",
    "#     import matplotlib as plt\n",
    "#     %matplotlib inline\n",
    "    \n",
    "#     Top15 = answer_one()\n",
    "#     Top15['PopEst'] = Top15['Energy Supply'] / Top15['Energy Supply per Capita']\n",
    "#     Top15['Citable docs per Capita'] = Top15['Citable documents'] / Top15['PopEst']\n",
    "#     Top15.plot(x='Citable docs per Capita', y='Energy Supply per Capita', kind='scatter', xlim=[0, 0.0006])"
   ]
  },
  {
   "cell_type": "code",
   "execution_count": 54,
   "metadata": {},
   "outputs": [
    {
     "data": {
      "image/png": "[encoded data removed]",
      "text/plain": [
       "<Figure size 432x288 with 1 Axes>"
      ]
     },
     "metadata": {
      "needs_background": "light"
     },
     "output_type": "display_data"
    }
   ],
   "source": [
    "# plot9() # Be sure to comment out plot9() before submitting the assignment!"
   ]
  },
  {
   "cell_type": "markdown",
   "metadata": {},
   "source": [
    "### Question 10 (6.6%)\n",
    "Create a new column with a 1 if the country's % Renewable value is at or above the median for all countries in the top 15, and a 0 if the country's % Renewable value is below the median.\n",
    "\n",
    "*This function should return a series named `HighRenew` whose index is the country name sorted in ascending order of rank.*"
   ]
  },
  {
   "cell_type": "code",
   "execution_count": 27,
   "metadata": {
    "umich_part_id": "018",
    "umich_partlist_id": "003"
   },
   "outputs": [
    {
     "data": {
      "text/plain": [
       "Country\n",
       "China                 1\n",
       "United States         0\n",
       "Japan                 0\n",
       "United Kingdom        0\n",
       "India                 0\n",
       "Germany               1\n",
       "Russian Federation    1\n",
       "Canada                1\n",
       "France                1\n",
       "Italy                 1\n",
       "South Korea           0\n",
       "Iran                  0\n",
       "Brazil                1\n",
       "Australia             0\n",
       "Spain                 1\n",
       "Name: Highrenew, dtype: int32"
      ]
     },
     "execution_count": 27,
     "metadata": {},
     "output_type": "execute_result"
    }
   ],
   "source": [
    "def answer_ten():\n",
    "    import pandas as pd\n",
    "    import numpy as np\n",
    "    \n",
    "    Top15 = answer_one()\n",
    "    Top15['Highrenew']=np.where(Top15['% Renewable']>=np.median(Top15['% Renewable']),1,0)\n",
    "    \n",
    "    \n",
    "    return Top15['Highrenew']\n",
    "answer_ten()"
   ]
  },
  {
   "cell_type": "markdown",
   "metadata": {},
   "source": [
    "### Question 11 (6.6%)\n",
    "Use the following dictionary to group the Countries by Continent, then create a dateframe that displays the sample size (the number of countries in each continent bin), and the sum, mean, and std deviation for the estimated population of each country.\n",
    "\n",
    "```python\n",
    "ContinentDict  = {'China':'Asia', \n",
    "                  'United States':'North America', \n",
    "                  'Japan':'Asia', \n",
    "                  'United Kingdom':'Europe', \n",
    "                  'Russian Federation':'Europe', \n",
    "                  'Canada':'North America', \n",
    "                  'Germany':'Europe', \n",
    "                  'India':'Asia',\n",
    "                  'France':'Europe', \n",
    "                  'South Korea':'Asia', \n",
    "                  'Italy':'Europe', \n",
    "                  'Spain':'Europe', \n",
    "                  'Iran':'Asia',\n",
    "                  'Australia':'Australia', \n",
    "                  'Brazil':'South America'}\n",
    "```\n",
    "\n",
    "*This function should return a DataFrame with index named Continent `['Asia', 'Australia', 'Europe', 'North America', 'South America']` and columns `['size', 'sum', 'mean', 'std']`*"
   ]
  },
  {
   "cell_type": "code",
   "execution_count": 34,
   "metadata": {
    "umich_part_id": "019",
    "umich_partlist_id": "003"
   },
   "outputs": [
    {
     "data": {
      "text/html": [
       "<div>\n",
       "<style scoped>\n",
       "    .dataframe tbody tr th:only-of-type {\n",
       "        vertical-align: middle;\n",
       "    }\n",
       "\n",
       "    .dataframe tbody tr th {\n",
       "        vertical-align: top;\n",
       "    }\n",
       "\n",
       "    .dataframe thead th {\n",
       "        text-align: right;\n",
       "    }\n",
       "</style>\n",
       "<table border=\"1\" class=\"dataframe\">\n",
       "  <thead>\n",
       "    <tr style=\"text-align: right;\">\n",
       "      <th></th>\n",
       "      <th>size</th>\n",
       "      <th>sum</th>\n",
       "      <th>mean</th>\n",
       "      <th>std</th>\n",
       "    </tr>\n",
       "  </thead>\n",
       "  <tbody>\n",
       "    <tr>\n",
       "      <td>Asia</td>\n",
       "      <td>5.0</td>\n",
       "      <td>2898.666387</td>\n",
       "      <td>579.733277</td>\n",
       "      <td>679.097888</td>\n",
       "    </tr>\n",
       "    <tr>\n",
       "      <td>Australia</td>\n",
       "      <td>1.0</td>\n",
       "      <td>23.316017</td>\n",
       "      <td>23.316017</td>\n",
       "      <td>NaN</td>\n",
       "    </tr>\n",
       "    <tr>\n",
       "      <td>Europe</td>\n",
       "      <td>6.0</td>\n",
       "      <td>457.929667</td>\n",
       "      <td>76.321611</td>\n",
       "      <td>34.647667</td>\n",
       "    </tr>\n",
       "    <tr>\n",
       "      <td>North America</td>\n",
       "      <td>2.0</td>\n",
       "      <td>352.855249</td>\n",
       "      <td>176.427625</td>\n",
       "      <td>199.669645</td>\n",
       "    </tr>\n",
       "    <tr>\n",
       "      <td>South America</td>\n",
       "      <td>1.0</td>\n",
       "      <td>205.915254</td>\n",
       "      <td>205.915254</td>\n",
       "      <td>NaN</td>\n",
       "    </tr>\n",
       "  </tbody>\n",
       "</table>\n",
       "</div>"
      ],
      "text/plain": [
       "               size          sum        mean         std\n",
       "Asia            5.0  2898.666387  579.733277  679.097888\n",
       "Australia       1.0    23.316017   23.316017         NaN\n",
       "Europe          6.0   457.929667   76.321611   34.647667\n",
       "North America   2.0   352.855249  176.427625  199.669645\n",
       "South America   1.0   205.915254  205.915254         NaN"
      ]
     },
     "execution_count": 34,
     "metadata": {},
     "output_type": "execute_result"
    }
   ],
   "source": [
    "def answer_eleven():\n",
    "    import pandas as pd\n",
    "    Top15 = answer_one()\n",
    "    ContinentDict  = {'China':'Asia', \n",
    "                  'United States':'North America', \n",
    "                  'Japan':'Asia', \n",
    "                  'United Kingdom':'Europe', \n",
    "                  'Russian Federation':'Europe', \n",
    "                  'Canada':'North America', \n",
    "                  'Germany':'Europe', \n",
    "                  'India':'Asia',\n",
    "                  'France':'Europe', \n",
    "                  'South Korea':'Asia', \n",
    "                  'Italy':'Europe', \n",
    "                  'Spain':'Europe', \n",
    "                  'Iran':'Asia',\n",
    "                  'Australia':'Australia', \n",
    "                  'Brazil':'South America'}\n",
    "    groups = pd.DataFrame(columns = ['size', 'sum', 'mean', 'std'])\n",
    "    Top15['Estimate Population'] = Top15['Energy Supply'] / Top15['Energy Supply per Capita']\n",
    "    for group, frame in Top15.groupby(ContinentDict):\n",
    "        groups.loc[group] = [len(frame), frame['Estimate Population'].sum(),frame['Estimate Population'].mean(),frame['Estimate Population'].std()]\n",
    "    return groups\n",
    "answer_eleven()"
   ]
  },
  {
   "cell_type": "markdown",
   "metadata": {},
   "source": [
    "### Question 12 (6.6%)\n",
    "Cut % Renewable into 5 bins. Group Top15 by the Continent, as well as these new % Renewable bins. How many countries are in each of these groups?\n",
    "\n",
    "*This function should return a __Series__ with a MultiIndex of `Continent`, then the bins for `% Renewable`. Do not include groups with no countries.*"
   ]
  },
  {
   "cell_type": "code",
   "execution_count": 29,
   "metadata": {
    "scrolled": true
   },
   "outputs": [
    {
     "data": {
      "text/plain": [
       "Continent      Bins            \n",
       "Asia           (2.212, 15.753]     4\n",
       "               (15.753, 29.227]    1\n",
       "Australia      (2.212, 15.753]     1\n",
       "Europe         (2.212, 15.753]     1\n",
       "               (15.753, 29.227]    3\n",
       "               (29.227, 42.701]    2\n",
       "North America  (2.212, 15.753]     1\n",
       "               (56.174, 69.648]    1\n",
       "South America  (56.174, 69.648]    1\n",
       "dtype: int64"
      ]
     },
     "execution_count": 29,
     "metadata": {},
     "output_type": "execute_result"
    }
   ],
   "source": [
    "def answer_twelve():\n",
    "    import pandas as pd\n",
    "    import numpy as np\n",
    "    Top15 = answer_one()\n",
    "    ContinentDict  = {'China':'Asia', \n",
    "                  'United States':'North America', \n",
    "                  'Japan':'Asia', \n",
    "                  'United Kingdom':'Europe', \n",
    "                  'Russian Federation':'Europe', \n",
    "                  'Canada':'North America', \n",
    "                  'Germany':'Europe', \n",
    "                  'India':'Asia',\n",
    "                  'France':'Europe', \n",
    "                  'South Korea':'Asia', \n",
    "                  'Italy':'Europe', \n",
    "                  'Spain':'Europe', \n",
    "                  'Iran':'Asia',\n",
    "                  'Australia':'Australia', \n",
    "                  'Brazil':'South America'}\n",
    "    # Map the dictionary values with the index values.\n",
    "    Top15['Continent'] = Top15.index.to_series().map(ContinentDict)\n",
    "    \n",
    "    Top15['Bins'] = pd.cut(Top15['% Renewable'],5) # The ENTIRE range of % Renewable is split into 5 bins.\n",
    "    \n",
    "    return Top15.groupby(['Continent','Bins']).size() # The entire range of bins is then grouped by continent.\n",
    "    \n",
    "    \n",
    "    return \n",
    "answer_twelve()"
   ]
  },
  {
   "cell_type": "markdown",
   "metadata": {},
   "source": [
    "### Question 13 (6.6%)\n",
    "Convert the Population Estimate series to a string with thousands separator (using commas). Do not round the results.\n",
    "\n",
    "e.g. 317615384.61538464 -> 317,615,384.61538464\n",
    "\n",
    "*This function should return a Series `PopEst` whose index is the country name and whose values are the population estimate string.*"
   ]
  },
  {
   "cell_type": "code",
   "execution_count": 30,
   "metadata": {
    "scrolled": true,
    "umich_part_id": "020",
    "umich_partlist_id": "003"
   },
   "outputs": [
    {
     "data": {
      "text/plain": [
       "Country\n",
       "China                 1,367.6451612903227\n",
       "United States          317.61538461538464\n",
       "Japan                  127.40939597315436\n",
       "United Kingdom          63.87096774193548\n",
       "India                 1,276.7307692307693\n",
       "Germany                 80.36969696969697\n",
       "Russian Federation                  143.5\n",
       "Canada                  35.23986486486486\n",
       "France                  63.83734939759036\n",
       "Italy                  59.908256880733944\n",
       "South Korea             49.80542986425339\n",
       "Iran                    77.07563025210084\n",
       "Brazil                 205.91525423728814\n",
       "Australia              23.316017316017316\n",
       "Spain                  46.443396226415096\n",
       "Name: PopEst, dtype: object"
      ]
     },
     "execution_count": 30,
     "metadata": {},
     "output_type": "execute_result"
    }
   ],
   "source": [
    "def answer_thirteen():\n",
    "    Top15 = answer_one()\n",
    "    \n",
    "    Top15['PopEst'] = (Top15['Energy Supply']/Top15['Energy Supply per Capita'])\n",
    "    \n",
    "    # Formula for adding comma separators.\n",
    "   \n",
    "\n",
    "    return Top15['PopEst'].apply(lambda x: '{0:,}'.format(x)).astype(str)\n",
    "    \n",
    "    \n",
    "\n",
    "answer_thirteen()"
   ]
  },
  {
   "cell_type": "markdown",
   "metadata": {},
   "source": [
    "### Optional\n",
    "\n",
    "Use the built in function `plot_optional()` to see an example visualization."
   ]
  },
  {
   "cell_type": "code",
   "execution_count": 31,
   "metadata": {
    "scrolled": true
   },
   "outputs": [],
   "source": [
    "# def plot_optional():\n",
    "#     import matplotlib as plt\n",
    "#     %matplotlib inline\n",
    "#     Top15 = answer_one()\n",
    "#     ax = Top15.plot(x='Rank', y='% Renewable', kind='scatter', \n",
    "#                     c=['#e41a1c','#377eb8','#e41a1c','#4daf4a','#4daf4a','#377eb8','#4daf4a','#e41a1c',\n",
    "#                        '#4daf4a','#e41a1c','#4daf4a','#4daf4a','#e41a1c','#dede00','#ff7f00'], \n",
    "#                     xticks=range(1,16), s=6*Top15['2014']/10**10, alpha=.75, figsize=[16,6]);\n",
    "\n",
    "#     for i, txt in enumerate(Top15.index):\n",
    "#         ax.annotate(txt, [Top15['Rank'][i], Top15['% Renewable'][i]], ha='center')\n",
    "\n",
    "#     print(\"This is an example of a visualization that can be created to help understand the data. \\\n",
    "# This is a bubble chart showing % Renewable vs. Rank. The size of the bubble corresponds to the countries' \\\n",
    "# 2014 GDP, and the color corresponds to the continent.\")"
   ]
  },
  {
   "cell_type": "code",
   "execution_count": 32,
   "metadata": {},
   "outputs": [],
   "source": [
    "# plot_optional() # Be sure to comment out plot_optional() before submitting the assignment!"
   ]
  },
  {
   "cell_type": "code",
   "execution_count": null,
   "metadata": {},
   "outputs": [],
   "source": []
  }
 ],
 "metadata": {
  "anaconda-cloud": {},
  "coursera": {
   "course_slug": "python-data-analysis",
   "graded_item_id": "zAr06",
   "launcher_item_id": "KSSjT",
   "part_id": "SL3fU"
  },
  "kernelspec": {
   "display_name": "Python 3",
   "language": "python",
   "name": "python3"
  },
  "language_info": {
   "codemirror_mode": {
    "name": "ipython",
    "version": 3
   },
   "file_extension": ".py",
   "mimetype": "text/x-python",
   "name": "python",
   "nbconvert_exporter": "python",
   "pygments_lexer": "ipython3",
   "version": "3.7.4"
  },
  "umich": {
   "id": "Assignment 3",
   "version": "1.5"
  }
 },
 "nbformat": 4,
 "nbformat_minor": 1
}
